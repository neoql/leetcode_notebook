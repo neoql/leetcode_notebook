{
 "metadata": {
  "language_info": {
   "codemirror_mode": {
    "name": "ipython",
    "version": 3
   },
   "file_extension": ".py",
   "mimetype": "text/x-python",
   "name": "python",
   "nbconvert_exporter": "python",
   "pygments_lexer": "ipython3",
   "version": 3
  },
  "orig_nbformat": 2
 },
 "nbformat": 4,
 "nbformat_minor": 2,
 "cells": [
  {
   "cell_type": "markdown",
   "metadata": {},
   "source": [
    "# 合并两个有序链表\n",
    "\n",
    "将两个升序链表合并为一个新的 升序 链表并返回。新链表是通过拼接给定的两个链表的所有节点组成的。 \n",
    "\n",
    " \n",
    "\n",
    "示例：\n",
    "\n",
    "输入：1->2->4, 1->3->4\n",
    "\n",
    "输出：1->1->2->3->4->4"
   ]
  },
  {
   "cell_type": "code",
   "execution_count": null,
   "metadata": {},
   "outputs": [],
   "source": [
    "# Definition for singly-linked list.\n",
    "class ListNode:\n",
    "    def __init__(self, val=0, next=None):\n",
    "        self.val = val\n",
    "        self.next = next\n",
    "\n",
    "class Solution:\n",
    "    def mergeTwoLists(self, l1: ListNode, l2: ListNode) -> ListNode:\n",
    "        root = ListNode(-1, None)\n",
    "        p = root\n",
    "\n",
    "        while l1 != None and l2 != None:\n",
    "            if l1.val < l2.val:\n",
    "                p.next = ListNode(l1.val, None)\n",
    "                l1 = l1.next\n",
    "            else:\n",
    "                p.next = ListNode(l2.val, None)\n",
    "                l2 = l2.next\n",
    "            p = p.next\n",
    "\n",
    "        if l1 != None:\n",
    "            p.next = l1\n",
    "        elif l2 != None:\n",
    "            p.next = l2\n",
    "\n",
    "        return root.next"
   ]
  }
 ]
}