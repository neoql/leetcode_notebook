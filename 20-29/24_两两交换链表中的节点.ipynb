{
 "metadata": {
  "language_info": {
   "codemirror_mode": {
    "name": "ipython",
    "version": 3
   },
   "file_extension": ".py",
   "mimetype": "text/x-python",
   "name": "python",
   "nbconvert_exporter": "python",
   "pygments_lexer": "ipython3",
   "version": 3
  },
  "orig_nbformat": 2
 },
 "nbformat": 4,
 "nbformat_minor": 2,
 "cells": [
  {
   "cell_type": "markdown",
   "metadata": {},
   "source": [
    "# 两两交换链表中的节点\n",
    "\n",
    "给定一个链表，两两交换其中相邻的节点，并返回交换后的链表。\n",
    "\n",
    "你不能只是单纯的改变节点内部的值，而是需要实际的进行节点交换。\n",
    "\n",
    "示例:\n",
    "\n",
    "```\n",
    "给定 1->2->3->4, 你应该返回 2->1->4->3.\n",
    "```\n",
    "\n"
   ]
  },
  {
   "cell_type": "code",
   "execution_count": null,
   "metadata": {},
   "outputs": [],
   "source": [
    "# Definition for singly-linked list.\n",
    "class ListNode:\n",
    "    def __init__(self, x):\n",
    "        self.val = x\n",
    "        self.next = None\n",
    "\n",
    "class Solution:\n",
    "    def swapPairs(self, head: ListNode) -> ListNode:\n",
    "        root = ListNode(-1)\n",
    "        root.next = head\n",
    "        p = root\n",
    "\n",
    "        while p.next != None and p.next.next != None:\n",
    "            left = p.next\n",
    "            right = left.next\n",
    "\n",
    "            left.next = right.next\n",
    "            right.next = left\n",
    "            p.next = right\n",
    "\n",
    "            p = left\n",
    "\n",
    "        return root.next"
   ]
  }
 ]
}