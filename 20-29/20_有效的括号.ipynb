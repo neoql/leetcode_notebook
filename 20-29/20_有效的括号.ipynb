{
 "metadata": {
  "language_info": {
   "codemirror_mode": {
    "name": "ipython",
    "version": 3
   },
   "file_extension": ".py",
   "mimetype": "text/x-python",
   "name": "python",
   "nbconvert_exporter": "python",
   "pygments_lexer": "ipython3",
   "version": 3
  },
  "orig_nbformat": 2
 },
 "nbformat": 4,
 "nbformat_minor": 2,
 "cells": [
  {
   "cell_type": "markdown",
   "metadata": {},
   "source": [
    "# 有效的括号\n",
    "\n",
    "给定一个只包括 '('，')'，'{'，'}'，'\\['，'\\]' 的字符串，判断字符串是否有效。\n",
    "\n",
    "有效字符串需满足：\n",
    "\n",
    "    左括号必须用相同类型的右括号闭合。\n",
    "    左括号必须以正确的顺序闭合。\n",
    "\n",
    "注意空字符串可被认为是有效字符串。\n",
    "\n",
    "示例 1:\n",
    "\n",
    "输入: \"()\"\n",
    "输出: true\n",
    "\n",
    "示例 2:\n",
    "\n",
    "输入: \"()\\[\\]{}\"\n",
    "输出: true\n",
    "\n",
    "示例 3:\n",
    "\n",
    "输入: \"(\\]\"\n",
    "输出: false\n",
    "\n",
    "示例 4:\n",
    "\n",
    "输入: \"(\\[)\\]\"\n",
    "输出: false\n",
    "\n",
    "示例 5:\n",
    "\n",
    "输入: \"{\\[\\]}\"\n",
    "输出: true"
   ]
  },
  {
   "cell_type": "code",
   "execution_count": null,
   "metadata": {},
   "outputs": [],
   "source": [
    "class Solution:\n",
    "    def isValid(self, s: str) -> bool:\n",
    "        stack = []\n",
    "        mapping = {\n",
    "            '}': '{', ')': '(', ']': '['\n",
    "        }\n",
    "        for c in s:\n",
    "            if c in {'(', '[', '{'}:\n",
    "                stack.append(c)\n",
    "            elif len(stack) > 0:\n",
    "                left = stack.pop()\n",
    "                if left != mapping[c]:\n",
    "                    return False\n",
    "            else:\n",
    "                return False\n",
    "        return len(stack) == 0"
   ]
  }
 ]
}