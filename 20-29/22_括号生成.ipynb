{
 "metadata": {
  "language_info": {
   "codemirror_mode": {
    "name": "ipython",
    "version": 3
   },
   "file_extension": ".py",
   "mimetype": "text/x-python",
   "name": "python",
   "nbconvert_exporter": "python",
   "pygments_lexer": "ipython3",
   "version": 3
  },
  "orig_nbformat": 2,
  "kernelspec": {
   "name": "python_defaultSpec_1598692588488",
   "display_name": "Python 3.8.5 64-bit"
  }
 },
 "nbformat": 4,
 "nbformat_minor": 2,
 "cells": [
  {
   "cell_type": "markdown",
   "metadata": {},
   "source": [
    "# 括号生成\n",
    "\n",
    "数字 n 代表生成括号的对数，请你设计一个函数，用于能够生成所有可能的并且 有效的 括号组合。\n",
    " \n",
    "\n",
    "示例：\n",
    "```\n",
    "输入：n = 3\n",
    "输出：[\n",
    "       \"((()))\",\n",
    "       \"(()())\",\n",
    "       \"(())()\",\n",
    "       \"()(())\",\n",
    "       \"()()()\"\n",
    "     ]\n",
    "```"
   ]
  },
  {
   "cell_type": "code",
   "execution_count": 18,
   "metadata": {},
   "outputs": [],
   "source": [
    "from typing import List\n",
    "\n",
    "\n",
    "class Solution:\n",
    "    @lru_cache(None)\n",
    "    def generateParenthesis(self, n: int) -> List[str]:\n",
    "        if n == 0:\n",
    "            return ['']\n",
    "        ans = []\n",
    "        for c in range(n):\n",
    "            for left in self.generateParenthesis(c):\n",
    "                for right in self.generateParenthesis(n-1-c):\n",
    "                    ans.append('({}){}'.format(left, right))\n",
    "        return ans\n",
    "        "
   ]
  },
  {
   "cell_type": "code",
   "execution_count": null,
   "metadata": {},
   "outputs": [],
   "source": []
  }
 ]
}