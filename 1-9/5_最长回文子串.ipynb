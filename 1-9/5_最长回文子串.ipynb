{
 "cells": [
  {
   "cell_type": "markdown",
   "metadata": {},
   "source": [
    "# 最长回文子串\n",
    "\n",
    "给定一个字符串 `s`，找到 `s` 中最长的回文子串。你可以假设 `s` 的最大长度为 1000。\n",
    "\n",
    "**示例 1：**\n",
    "\n",
    "**输入:** \"babad\"\n",
    "\n",
    "**输出:** \"bab\"\n",
    "\n",
    "**注意:** \"aba\" 也是一个有效答案。\n",
    "\n",
    "**示例 2：**\n",
    "\n",
    "**输入:** \"cbbd\"\n",
    "\n",
    "**输出:** \"bb\"\n"
   ]
  },
  {
   "cell_type": "code",
   "execution_count": 34,
   "metadata": {},
   "outputs": [],
   "source": [
    "class Solution:\n",
    "    def longestPalindrome(self, s: str) -> str:\n",
    "        n = len(s)\n",
    "        dp = [[False] * n for _ in range(n)]\n",
    "        ans = \"\"\n",
    "\n",
    "        for l in range(n):\n",
    "            for i in range(n):\n",
    "                j = i + l\n",
    "                if j >= n:\n",
    "                    break\n",
    "                if l == 0:\n",
    "                    dp[i][j] = True\n",
    "                elif l == 1:\n",
    "                    dp[i][j] = (s[i] == s[j])\n",
    "                else:\n",
    "                    dp[i][j] = (dp[i + 1][j - 1] and s[i] == s[j])\n",
    "                if dp[i][j] and l + 1 > len(ans):\n",
    "                    ans = s[i:j+1]\n",
    "        return ans"
   ]
  },
  {
   "cell_type": "code",
   "execution_count": 35,
   "metadata": {
    "tags": []
   },
   "outputs": [
    {
     "output_type": "stream",
     "name": "stdout",
     "text": "pass\n"
    }
   ],
   "source": [
    "sln = Solution()\n",
    "\n",
    "assert sln.longestPalindrome(\"babad\") in {\"bab\", \"aba\"}\n",
    "assert sln.longestPalindrome(\"cbbd\") == \"bb\"\n",
    "\n",
    "print('pass')"
   ]
  },
  {
   "cell_type": "code",
   "execution_count": null,
   "metadata": {},
   "outputs": [],
   "source": []
  }
 ],
 "metadata": {
  "language_info": {
   "codemirror_mode": {
    "name": "ipython",
    "version": 3
   },
   "file_extension": ".py",
   "mimetype": "text/x-python",
   "name": "python",
   "nbconvert_exporter": "python",
   "pygments_lexer": "ipython3",
   "version": "3.8.3-final"
  },
  "orig_nbformat": 2,
  "kernelspec": {
   "name": "python37664bit858e7e4013fd40eb9ddc3f8de42f5163",
   "display_name": "Python 3.7.6 64-bit"
  }
 },
 "nbformat": 4,
 "nbformat_minor": 2
}