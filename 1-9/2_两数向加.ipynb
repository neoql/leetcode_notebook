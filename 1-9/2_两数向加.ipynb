{
 "cells": [
  {
   "cell_type": "markdown",
   "metadata": {},
   "source": [
    "# 两数向加\n",
    "\n",
    "给出两个 `非空` 的链表用来表示两个非负的整数。其中，它们各自的位数是按照 `逆序` 的方式存储的，并且它们的每个节点只能存储 `一位` 数字。\n",
    "\n",
    "如果，我们将这两个数相加起来，则会返回一个新的链表来表示它们的和。\n",
    "\n",
    "您可以假设除了数字 0 之外，这两个数都不会以 0 开头。"
   ]
  },
  {
   "cell_type": "markdown",
   "metadata": {},
   "source": [
    "## 示例\n",
    "\n",
    "输入：(2 -> 4 -> 3) + (5 -> 6 -> 4)\n",
    "\n",
    "输出：7 -> 0 -> 8\n",
    "\n",
    "原因：342 + 465 = 807"
   ]
  },
  {
   "cell_type": "code",
   "execution_count": 39,
   "metadata": {},
   "outputs": [],
   "source": [
    "# Definition for singly-linked list.\n",
    "class ListNode:\n",
    "    def __init__(self, x):\n",
    "        self.val = x\n",
    "        self.next = None\n",
    "\n",
    "class Solution:\n",
    "    def addTwoNumbers(self, l1: ListNode, l2: ListNode) -> ListNode:\n",
    "        carry = 0\n",
    "\n",
    "        l3 = ans = None\n",
    "\n",
    "        while l1 != None or l2 != None:\n",
    "            val1 = l1.val if l1 else 0\n",
    "            val2 = l2.val if l2 else 0\n",
    "\n",
    "            val = val1 + val2 + carry\n",
    "            if l3 is None:\n",
    "                l3 = ans = ListNode(val%10)\n",
    "            else:\n",
    "                l3.next = ListNode(val%10)\n",
    "                l3 = l3.next\n",
    "            carry = val // 10\n",
    "\n",
    "            l1 = l1.next if l1 else None\n",
    "            l2 = l2.next if l2 else None\n",
    "\n",
    "        if carry:\n",
    "            l3.next = ListNode(carry)\n",
    "\n",
    "        return ans\n",
    "\n"
   ]
  },
  {
   "cell_type": "code",
   "execution_count": 41,
   "metadata": {
    "tags": []
   },
   "outputs": [
    {
     "output_type": "stream",
     "name": "stdout",
     "text": "pass\n"
    }
   ],
   "source": [
    "def case(nums):\n",
    "    assert len(nums) > 0\n",
    "    head = ptr = ListNode(nums[0])\n",
    "    for num in nums[1:]:\n",
    "        ptr.next = ListNode(num)\n",
    "        ptr = ptr.next\n",
    "    return head\n",
    "\n",
    "def equal(l, nums):\n",
    "    offset = 0\n",
    "    ptr = l\n",
    "\n",
    "    while ptr is not None:\n",
    "        if offset >= len(nums):\n",
    "            return False\n",
    "        if ptr.val != nums[offset]:\n",
    "            return False\n",
    "        offset += 1\n",
    "        ptr = ptr.next\n",
    "\n",
    "    return offset == len(nums)\n",
    "\n",
    "\n",
    "x1 = case([2, 4, 3])\n",
    "x2 = case([5, 6, 4])\n",
    "\n",
    "sln = Solution()\n",
    "ans = sln.addTwoNumbers(x1, x2)\n",
    "assert equal(ans, [7, 0, 8])\n",
    "print('pass')"
   ]
  },
  {
   "cell_type": "code",
   "execution_count": null,
   "metadata": {},
   "outputs": [],
   "source": []
  }
 ],
 "metadata": {
  "language_info": {
   "codemirror_mode": {
    "name": "ipython",
    "version": 3
   },
   "file_extension": ".py",
   "mimetype": "text/x-python",
   "name": "python",
   "nbconvert_exporter": "python",
   "pygments_lexer": "ipython3",
   "version": "3.8.3-final"
  },
  "orig_nbformat": 2,
  "kernelspec": {
   "name": "python37664bit858e7e4013fd40eb9ddc3f8de42f5163",
   "display_name": "Python 3.7.6 64-bit"
  }
 },
 "nbformat": 4,
 "nbformat_minor": 2
}