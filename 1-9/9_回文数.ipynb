{
 "cells": [
  {
   "cell_type": "markdown",
   "metadata": {},
   "source": [
    "# 回文数\n",
    "\n",
    "判断一个整数是否是回文数。回文数是指正序（从左向右）和倒序（从右向左）读都是一样的整数。\n",
    "\n",
    "**示例 1:**\n",
    "\n",
    "输入: 121\n",
    "\n",
    "输出: true\n",
    "\n",
    "**示例 2:**\n",
    "\n",
    "输入: -121\n",
    "\n",
    "输出: false\n",
    "\n",
    "解释: 从左向右读, 为 -121 。 从右向左读, 为 121- 。因此它不是一个回文数。\n",
    "\n",
    "**示例 3:**\n",
    "\n",
    "输入: 10\n",
    "\n",
    "输出: false\n",
    "\n",
    "解释: 从右向左读, 为 01 。因此它不是一个回文数。\n",
    "\n",
    "**进阶:**\n",
    "\n",
    "你能不将整数转为字符串来解决这个问题吗？"
   ]
  },
  {
   "cell_type": "code",
   "execution_count": 5,
   "metadata": {},
   "outputs": [],
   "source": [
    "class Solution:\n",
    "    def isPalindrome(self, x: int) -> bool:\n",
    "        v = x\n",
    "        if x < 0:\n",
    "            return False\n",
    "\n",
    "        r = 0\n",
    "        while x // 10 > 0:\n",
    "            r = r * 10 + x % 10\n",
    "            x = x // 10\n",
    "        r = r*10+x\n",
    "        return r == v\n",
    "        "
   ]
  },
  {
   "cell_type": "code",
   "execution_count": 6,
   "metadata": {
    "tags": []
   },
   "outputs": [
    {
     "output_type": "stream",
     "name": "stdout",
     "text": "pass\n"
    }
   ],
   "source": [
    "sln = Solution()\n",
    "\n",
    "assert sln.isPalindrome(121)\n",
    "assert sln.isPalindrome(-121) is False\n",
    "assert sln.isPalindrome(10) is False\n",
    "\n",
    "print('pass')"
   ]
  }
 ],
 "metadata": {
  "language_info": {
   "codemirror_mode": {
    "name": "ipython",
    "version": 3
   },
   "file_extension": ".py",
   "mimetype": "text/x-python",
   "name": "python",
   "nbconvert_exporter": "python",
   "pygments_lexer": "ipython3",
   "version": "3.8.3-final"
  },
  "orig_nbformat": 2,
  "kernelspec": {
   "name": "python37664bit858e7e4013fd40eb9ddc3f8de42f5163",
   "display_name": "Python 3.7.6 64-bit"
  }
 },
 "nbformat": 4,
 "nbformat_minor": 2
}