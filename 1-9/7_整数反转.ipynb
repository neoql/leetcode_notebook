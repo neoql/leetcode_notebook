{
 "cells": [
  {
   "cell_type": "markdown",
   "metadata": {},
   "source": [
    "# 整数反转\n",
    "\n",
    "给出一个 32 位的有符号整数，你需要将这个整数中每位上的数字进行反转。\n",
    "\n",
    "**示例 1**:\n",
    "\n",
    "**输入:** 123\n",
    "\n",
    "**输出:** 321\n",
    "\n",
    "**示例 2**:\n",
    "\n",
    "**输入: **-123\n",
    "\n",
    "**输出:** -321\n",
    "\n",
    "**示例 3**:\n",
    "\n",
    "**输入:** 120\n",
    "\n",
    "**输出:** 21"
   ]
  },
  {
   "cell_type": "code",
   "execution_count": 15,
   "metadata": {},
   "outputs": [],
   "source": [
    "class Solution:\n",
    "    def reverse(self, x: int) -> int:\n",
    "        # leetcode的检测程序最大值和最小值，超出范围返回0\n",
    "        maxInt = 0x7fffffff\n",
    "        minInt = -maxInt - 1\n",
    "\n",
    "        sign = 1 if x >= 0 else -1\n",
    "        x = abs(x)\n",
    "        ans = 0\n",
    "\n",
    "        while x // 10 > 0:\n",
    "            ans = (ans * 10) + (x % 10)\n",
    "            x = x // 10\n",
    "\n",
    "        ans = (ans*10 + x) * sign\n",
    "\n",
    "        return ans if minInt <= ans and ans <= maxInt else 0\n"
   ]
  },
  {
   "cell_type": "code",
   "execution_count": 16,
   "metadata": {
    "tags": []
   },
   "outputs": [
    {
     "output_type": "stream",
     "name": "stdout",
     "text": "pass\n"
    }
   ],
   "source": [
    "sln = Solution()\n",
    "\n",
    "assert sln.reverse(123) == 321\n",
    "assert sln.reverse(-123) == -321\n",
    "assert sln.reverse(120) == 21\n",
    "\n",
    "print('pass')"
   ]
  },
  {
   "cell_type": "code",
   "execution_count": null,
   "metadata": {},
   "outputs": [],
   "source": []
  }
 ],
 "metadata": {
  "language_info": {
   "codemirror_mode": {
    "name": "ipython",
    "version": 3
   },
   "file_extension": ".py",
   "mimetype": "text/x-python",
   "name": "python",
   "nbconvert_exporter": "python",
   "pygments_lexer": "ipython3",
   "version": "3.8.3-final"
  },
  "orig_nbformat": 2,
  "kernelspec": {
   "name": "python37664bit858e7e4013fd40eb9ddc3f8de42f5163",
   "display_name": "Python 3.7.6 64-bit"
  }
 },
 "nbformat": 4,
 "nbformat_minor": 2
}