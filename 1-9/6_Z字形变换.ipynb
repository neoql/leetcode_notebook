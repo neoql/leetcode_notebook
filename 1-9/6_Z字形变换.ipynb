{
 "cells": [
  {
   "cell_type": "markdown",
   "metadata": {},
   "source": [
    "# Z字形变换\n",
    "\n",
    "将一个给定字符串根据给定的行数，以从上往下、从左到右进行 Z 字形排列。\n",
    "\n",
    "比如输入字符串为 \"LEETCODEISHIRING\" 行数为 3 时，排列如下：\n",
    "```\n",
    "\n",
    "L   C   I   R\n",
    "\n",
    "E T O E S I I G\n",
    "\n",
    "E   D   H   N\n",
    "```\n",
    "\n",
    "之后，你的输出需要从左往右逐行读取，产生出一个新的字符串，比如：\"LCIRETOESIIGEDHN\"。\n",
    "\n",
    "请你实现这个将字符串进行指定行数变换的函数：\n",
    "\n",
    "string convert(string s, int numRows);\n",
    "\n",
    "**示例 1**:\n",
    "\n",
    "**输入:** s = \"LEETCODEISHIRING\", numRows = 3\n",
    "\n",
    "**输出:** \"LCIRETOESIIGEDHN\"\n",
    "\n",
    "**示例 2**:\n",
    "\n",
    "**输入:** s = \"LEETCODEISHIRING\", numRows = 4\n",
    "\n",
    "**输出:** \"LDREOEIIECIHNTSG\"\n",
    "\n",
    "**解释:**\n",
    "```\n",
    "\n",
    "L     D     R\n",
    "\n",
    "E   O E   I I\n",
    "\n",
    "E C   I H   N\n",
    "\n",
    "T     S     G\n",
    "```"
   ]
  },
  {
   "cell_type": "code",
   "execution_count": 1,
   "metadata": {},
   "outputs": [],
   "source": [
    "from typing import Tuple\n",
    "\n",
    "\n",
    "class Solution:\n",
    "    def convert(self, s: str, numRows: int) -> str:\n",
    "        n = len(s)\n",
    "        ans = []\n",
    "\n",
    "        if n < numRows:\n",
    "            return s\n",
    "\n",
    "        for row in range(numRows):\n",
    "            ans.append(s[row])\n",
    "            step = self.step(numRows, row)\n",
    "            m = 0\n",
    "            i = row + step[m]\n",
    "            while i < n:\n",
    "                if step[m] != 0:\n",
    "                    ans.append(s[i])\n",
    "                m = (m+1)%2\n",
    "                i += step[m]\n",
    "        return ''.join(ans)\n",
    "\n",
    "\n",
    "    def step(self, numRows: int, row: int) -> Tuple[int, int]:\n",
    "        stepDown = (numRows-row-1)*2\n",
    "        stepUp = 2*row\n",
    "\n",
    "        return stepDown, stepUp"
   ]
  },
  {
   "cell_type": "code",
   "execution_count": 2,
   "metadata": {
    "tags": []
   },
   "outputs": [
    {
     "output_type": "stream",
     "name": "stdout",
     "text": "pass\n"
    }
   ],
   "source": [
    "sln = Solution()\n",
    "\n",
    "assert sln.convert(\"LEETCODEISHIRING\", 3) == \"LCIRETOESIIGEDHN\"\n",
    "assert sln.convert(\"LEETCODEISHIRING\", 4) == \"LDREOEIIECIHNTSG\"\n",
    "\n",
    "print('pass')"
   ]
  },
  {
   "cell_type": "code",
   "execution_count": null,
   "metadata": {},
   "outputs": [],
   "source": []
  }
 ],
 "metadata": {
  "language_info": {
   "codemirror_mode": {
    "name": "ipython",
    "version": 3
   },
   "file_extension": ".py",
   "mimetype": "text/x-python",
   "name": "python",
   "nbconvert_exporter": "python",
   "pygments_lexer": "ipython3",
   "version": "3.8.5-final"
  },
  "orig_nbformat": 2,
  "kernelspec": {
   "name": "python37664bit858e7e4013fd40eb9ddc3f8de42f5163",
   "display_name": "Python 3.7.6 64-bit"
  }
 },
 "nbformat": 4,
 "nbformat_minor": 2
}