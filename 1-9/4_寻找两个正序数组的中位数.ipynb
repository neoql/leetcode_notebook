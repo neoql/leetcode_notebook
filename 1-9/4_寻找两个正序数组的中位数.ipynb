{
 "cells": [
  {
   "cell_type": "markdown",
   "metadata": {},
   "source": [
    "# 寻找两个正序数组的中位数\n",
    "\n",
    "给定两个大小为 m 和 n 的正序（从小到大）数组 `nums1` 和 `nums2`。\n",
    "\n",
    "请你找出这两个正序数组的中位数，并且要求算法的时间复杂度为 O(log(m + n))。\n",
    "\n",
    "你可以假设 `nums1` 和 `nums2` 不会同时为空。\n",
    "\n",
    "### 示例 1:\n",
    "\n",
    "nums1 = \\[1, 3\\]\n",
    "\n",
    "nums2 = \\[2\\]\n",
    "\n",
    "则中位数是 2.0\n",
    "\n",
    "### 示例 2:\n",
    "\n",
    "nums1 = \\[1, 2\\]\n",
    "\n",
    "nums2 = \\[3, 4\\]\n",
    "\n",
    "则中位数是 (2 + 3)/2 = 2.5"
   ]
  },
  {
   "cell_type": "code",
   "execution_count": 5,
   "metadata": {},
   "outputs": [],
   "source": [
    "from typing import List\n",
    "\n",
    "\n",
    "class Solution:\n",
    "    def findMedianSortedArrays(self, nums1: List[int], nums2: List[int]) -> float:\n",
    "        def getKthElement(k):\n",
    "            \"\"\"\n",
    "            - 主要思路：要找到第 k (k>1) 小的元素，那么就取 pivot1 = nums1[k/2-1] 和 pivot2 = nums2[k/2-1] 进行比较\n",
    "            - 这里的 \"/\" 表示整除\n",
    "            - nums1 中小于等于 pivot1 的元素有 nums1[0 .. k/2-2] 共计 k/2-1 个\n",
    "            - nums2 中小于等于 pivot2 的元素有 nums2[0 .. k/2-2] 共计 k/2-1 个\n",
    "            - 取 pivot = min(pivot1, pivot2)，两个数组中小于等于 pivot 的元素共计不会超过 (k/2-1) + (k/2-1) <= k-2 个\n",
    "            - 这样 pivot 本身最大也只能是第 k-1 小的元素\n",
    "            - 如果 pivot = pivot1，那么 nums1[0 .. k/2-1] 都不可能是第 k 小的元素。把这些元素全部 \"删除\"，剩下的作为新的 nums1 数组\n",
    "            - 如果 pivot = pivot2，那么 nums2[0 .. k/2-1] 都不可能是第 k 小的元素。把这些元素全部 \"删除\"，剩下的作为新的 nums2 数组\n",
    "            - 由于我们 \"删除\" 了一些元素（这些元素都比第 k 小的元素要小），因此需要修改 k 的值，减去删除的数的个数\n",
    "            \"\"\"\n",
    "            \n",
    "            index1, index2 = 0, 0\n",
    "            while True:\n",
    "                # 特殊情况\n",
    "                if index1 == m:\n",
    "                    return nums2[index2 + k - 1]\n",
    "                if index2 == n:\n",
    "                    return nums1[index1 + k - 1]\n",
    "                if k == 1:\n",
    "                    return min(nums1[index1], nums2[index2])\n",
    "\n",
    "                # 正常情况\n",
    "                newIndex1 = min(index1 + k // 2 - 1, m - 1)\n",
    "                newIndex2 = min(index2 + k // 2 - 1, n - 1)\n",
    "                pivot1, pivot2 = nums1[newIndex1], nums2[newIndex2]\n",
    "                if pivot1 <= pivot2:\n",
    "                    k -= newIndex1 - index1 + 1\n",
    "                    index1 = newIndex1 + 1\n",
    "                else:\n",
    "                    k -= newIndex2 - index2 + 1\n",
    "                    index2 = newIndex2 + 1\n",
    "        \n",
    "        m, n = len(nums1), len(nums2)\n",
    "        totalLength = m + n\n",
    "        if totalLength % 2 == 1:\n",
    "            return getKthElement((totalLength + 1) // 2)\n",
    "        else:\n",
    "            return (getKthElement(totalLength // 2) + getKthElement(totalLength // 2 + 1)) / 2"
   ]
  },
  {
   "cell_type": "code",
   "execution_count": 6,
   "metadata": {
    "tags": []
   },
   "outputs": [
    {
     "output_type": "stream",
     "name": "stdout",
     "text": "pass\n"
    }
   ],
   "source": [
    "sln = Solution()\n",
    "\n",
    "x1 = [1, 3]\n",
    "x2 = [2]\n",
    "\n",
    "assert sln.findMedianSortedArrays(x1, x2) == 2.0\n",
    "\n",
    "x1 = [1, 2]\n",
    "x2 = [3, 4]\n",
    "\n",
    "assert sln.findMedianSortedArrays(x1, x2) == 2.5\n",
    "\n",
    "print('pass')"
   ]
  }
 ],
 "metadata": {
  "language_info": {
   "codemirror_mode": {
    "name": "ipython",
    "version": 3
   },
   "file_extension": ".py",
   "mimetype": "text/x-python",
   "name": "python",
   "nbconvert_exporter": "python",
   "pygments_lexer": "ipython3",
   "version": "3.8.3-final"
  },
  "orig_nbformat": 2,
  "kernelspec": {
   "name": "python37664bit858e7e4013fd40eb9ddc3f8de42f5163",
   "display_name": "Python 3.7.6 64-bit"
  }
 },
 "nbformat": 4,
 "nbformat_minor": 2
}