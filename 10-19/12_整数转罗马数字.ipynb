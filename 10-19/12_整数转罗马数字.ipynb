{
 "metadata": {
  "language_info": {
   "codemirror_mode": {
    "name": "ipython",
    "version": 3
   },
   "file_extension": ".py",
   "mimetype": "text/x-python",
   "name": "python",
   "nbconvert_exporter": "python",
   "pygments_lexer": "ipython3",
   "version": 3
  },
  "orig_nbformat": 2,
  "kernelspec": {
   "name": "python_defaultSpec_1596719960319",
   "display_name": "Python 3.8.5 64-bit"
  }
 },
 "nbformat": 4,
 "nbformat_minor": 2,
 "cells": [
  {
   "cell_type": "markdown",
   "metadata": {},
   "source": [
    "# 整数转罗马数字\n",
    "\n",
    "罗马数字包含以下七种字符：`I`,`V`,`X`,`L`,`C`,`D`和`H`。\n",
    "\n",
    "| 字符 | 数值 |\n",
    "| ---- | ---- |\n",
    "| I    | 1    |\n",
    "| V    | 5    |\n",
    "| X    | 10   |\n",
    "| L    | 50   |\n",
    "| C    | 100  |\n",
    "| D    | 500  |\n",
    "| M    | 1000 |\n",
    "\n",
    "例如，罗马数字2写作`II`，即两个并列的1。12写作`XII`，即为`X`+`II`。27写作`XXVII`，即为`XX`+`V`+`II`。\n",
    "\n",
    "通常情况下，罗马数字中小的数字在大的数字右边。但也存在特例，例如4不写作`IIII`而是`IV`。数字1在数字5左边，所表示的数等于大数5减去小数1得到4.同样的，9表示为`IX`。这个特殊的规则只适用于以下六种情况：\n",
    "\n",
    "* `I`可以放在`V`(5)和`X`(10)的左边，来表示4和9\n",
    "* `X` 可以放在 `L` (50) 和 `C` (100) 的左边，来表示 40 和 90。\n",
    "* `C` 可以放在 `D` (500) 和 `M` (1000) 的左边，来表示 400 和 900。\n",
    "\n",
    "给定一个整数，将其转为罗马数字。输入确保在 1 到 3999 的范围内。\n",
    "\n",
    "示例 1:\n",
    "\n",
    "```\n",
    "输入: 3\n",
    "输出: \"III\"\n",
    "```\n",
    "\n",
    "\n",
    "\n",
    "示例 2:\n",
    "\n",
    "```\n",
    "输入: 4\n",
    "输出: \"IV\"\n",
    "```\n",
    "\n",
    "\n",
    "\n",
    "示例 3:\n",
    "\n",
    "```\n",
    "输入: 9\n",
    "输出: \"IX\"\n",
    "```\n",
    "\n",
    "\n",
    "\n",
    "示例 4:\n",
    "\n",
    "```\n",
    "输入: 58\n",
    "输出: \"LVIII\"\n",
    "解释: L = 50, V = 5, III = 3.\n",
    "```\n",
    "\n",
    "\n",
    "\n",
    "示例 5:\n",
    "\n",
    "````\n",
    "输入: 1994\n",
    "输出: \"MCMXCIV\"\n",
    "解释: M = 1000, CM = 900, XC = 90, IV = 4.\n",
    "````"
   ]
  },
  {
   "cell_type": "code",
   "execution_count": 4,
   "metadata": {},
   "outputs": [],
   "source": [
    "class Solution:\n",
    "    def intToRoman(self, num: int) -> str:\n",
    "        letter = ['M', 'CM', 'D', 'CD', 'C', 'XC', 'L', 'XL', 'X', 'IX', 'V', 'IV', 'I']\n",
    "        number = [1000, 900, 500, 400, 100, 90, 50, 40, 10, 9, 5, 4, 1]\n",
    "\n",
    "        ans = []\n",
    "        for i, n in enumerate(number):\n",
    "            k = num // n\n",
    "            num = num % n\n",
    "            ans += ([letter[i]] * k)\n",
    "\n",
    "        return ''.join(ans)"
   ]
  },
  {
   "cell_type": "code",
   "execution_count": 5,
   "metadata": {
    "tags": []
   },
   "outputs": [
    {
     "output_type": "stream",
     "name": "stdout",
     "text": "pass\n"
    }
   ],
   "source": [
    "sln = Solution()\n",
    "\n",
    "assert sln.intToRoman(3) == 'III'\n",
    "assert sln.intToRoman(4) == 'IV'\n",
    "assert sln.intToRoman(9) == 'IX'\n",
    "assert sln.intToRoman(58) == 'LVIII'\n",
    "assert sln.intToRoman(1994) == 'MCMXCIV'\n",
    "\n",
    "print('pass')"
   ]
  },
  {
   "cell_type": "code",
   "execution_count": null,
   "metadata": {},
   "outputs": [],
   "source": []
  }
 ]
}