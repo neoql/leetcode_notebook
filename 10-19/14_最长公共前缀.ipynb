{
 "metadata": {
  "language_info": {
   "codemirror_mode": {
    "name": "ipython",
    "version": 3
   },
   "file_extension": ".py",
   "mimetype": "text/x-python",
   "name": "python",
   "nbconvert_exporter": "python",
   "pygments_lexer": "ipython3",
   "version": 3
  },
  "orig_nbformat": 2,
  "kernelspec": {
   "name": "python_defaultSpec_1596723465787",
   "display_name": "Python 3.8.5 64-bit"
  }
 },
 "nbformat": 4,
 "nbformat_minor": 2,
 "cells": [
  {
   "cell_type": "markdown",
   "metadata": {},
   "source": [
    "# 最长公共前缀\n",
    "\n",
    "编写一个函数来查找字符串数组中的最长公共前缀。\n",
    "\n",
    "如果不存在公共前缀，返回空字符串 \"\"。\n",
    "\n",
    "\n",
    "示例 1:\n",
    "\n",
    "输入: \\[\"flower\",\"flow\",\"flight\"\\]\n",
    "输出: \"fl\"\n",
    "\n",
    "示例 2:\n",
    "\n",
    "输入: \\[\"dog\",\"racecar\",\"car\"\\]\n",
    "输出: \"\"\n",
    "解释: 输入不存在公共前缀。\n",
    "\n",
    "说明:\n",
    "\n",
    "所有输入只包含小写字母 a-z 。"
   ]
  },
  {
   "cell_type": "code",
   "execution_count": 1,
   "metadata": {},
   "outputs": [],
   "source": [
    "from typing import List\n",
    "\n",
    "class Solution:\n",
    "    def longestCommonPrefix(self, strs: List[str]) -> str:\n",
    "        ans = []\n",
    "        for x in zip(*strs):\n",
    "            if x == (tuple(x[0]) * len(x)):\n",
    "                ans.append(x[0])\n",
    "            else:\n",
    "                break\n",
    "        return ''.join(ans)"
   ]
  },
  {
   "cell_type": "code",
   "execution_count": 2,
   "metadata": {
    "tags": []
   },
   "outputs": [
    {
     "output_type": "stream",
     "name": "stdout",
     "text": "pass\n"
    }
   ],
   "source": [
    "sln = Solution()\n",
    "\n",
    "assert sln.longestCommonPrefix([\"flower\",\"flow\",\"flight\"]) == 'fl'\n",
    "assert sln.longestCommonPrefix([\"dog\",\"racecar\",\"car\"]) == ''\n",
    "\n",
    "print('pass')"
   ]
  },
  {
   "cell_type": "code",
   "execution_count": null,
   "metadata": {},
   "outputs": [],
   "source": []
  }
 ]
}