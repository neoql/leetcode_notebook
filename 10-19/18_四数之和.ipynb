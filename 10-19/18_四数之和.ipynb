{
 "metadata": {
  "language_info": {
   "codemirror_mode": {
    "name": "ipython",
    "version": 3
   },
   "file_extension": ".py",
   "mimetype": "text/x-python",
   "name": "python",
   "nbconvert_exporter": "python",
   "pygments_lexer": "ipython3",
   "version": 3
  },
  "orig_nbformat": 2
 },
 "nbformat": 4,
 "nbformat_minor": 2,
 "cells": [
  {
   "cell_type": "markdown",
   "metadata": {},
   "source": [
    "# 四数之和\n",
    "\n",
    "#### \n",
    "\n",
    "给定一个包含 *n* 个整数的数组 `nums` 和一个目标值 `target`，判断 `nums` 中是否存在四个元素 *a*，*b*，*c* 和 *d* ，使得 *a* + *b* + *c* + *d* 的值与 `target` 相等？找出所有满足条件且不重复的四元组。\n",
    "\n",
    "**注意：**\n",
    "\n",
    "答案中不可以包含重复的四元组。\n",
    "\n",
    "**示例：**\n",
    "\n",
    "```\n",
    "给定数组 nums = [1, 0, -1, 0, -2, 2]，和 target = 0。\n",
    "\n",
    "满足要求的四元组集合为：\n",
    "[\n",
    "  [-1,  0, 0, 1],\n",
    "  [-2, -1, 1, 2],\n",
    "  [-2,  0, 0, 2]\n",
    "]\n",
    "```"
   ]
  },
  {
   "cell_type": "code",
   "execution_count": null,
   "metadata": {},
   "outputs": [],
   "source": [
    "class Solution:\n",
    "    def fourSum(self, nums: List[int], target: int) -> List[List[int]]:\n",
    "        if len(nums) < 4:\n",
    "            return []\n",
    "        res = []\n",
    "        nums = sorted(nums)\n",
    "        for i in range(len(nums)-3):\n",
    "            # 1) 去重复\n",
    "            if i > 0 and nums[i] == nums[i - 1]:\n",
    "                continue\n",
    "            # 2) 剪枝第一处，因为i后面位置的元素是递增排序的。\n",
    "            if nums[i] + 3*nums[i+1] > target:\n",
    "                break\n",
    "            # 3) 剪枝第二处，因为i后面位置的元素是递增排序的。\n",
    "            if nums[i] + 3*nums[-1] < target:\n",
    "                continue\n",
    "            for j in range(i + 1, len(nums)-2):\n",
    "                # 4) 去重复\n",
    "                if j > i + 1 and nums[j] == nums[j - 1]:\n",
    "                    continue\n",
    "                # 5) 剪枝第三处\n",
    "                if nums[i]+nums[j]+2*nums[j+1] > target:\n",
    "                    break\n",
    "                # 6) 剪枝第四处\n",
    "                if nums[i]+nums[j]+2*nums[-1] < target:\n",
    "                    continue\n",
    "                low, high = j + 1, len(nums) - 1\n",
    "                while low < high:\n",
    "                    if nums[i] + nums[j] + nums[low] + nums[high] == target:\n",
    "                        res.append([nums[i], nums[j], nums[low], nums[high]])\n",
    "                        low, high = low + 1, high - 1\n",
    "                        # 7) 去重复\n",
    "                        while low < high and nums[low] == nums[low - 1]:\n",
    "                            low += 1\n",
    "                        # 8) 去重复\n",
    "                        while low < high and nums[high] == nums[high + 1]:\n",
    "                            high -= 1\n",
    "                    if nums[i] + nums[j] + nums[low] + nums[high] > target:\n",
    "                        high -= 1\n",
    "                    if nums[i] + nums[j] + nums[low] + nums[high] < target:\n",
    "                        low += 1\n",
    "        return res"
   ]
  }
 ]
}