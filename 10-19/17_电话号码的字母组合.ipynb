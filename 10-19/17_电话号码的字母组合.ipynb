{
 "metadata": {
  "language_info": {
   "codemirror_mode": {
    "name": "ipython",
    "version": 3
   },
   "file_extension": ".py",
   "mimetype": "text/x-python",
   "name": "python",
   "nbconvert_exporter": "python",
   "pygments_lexer": "ipython3",
   "version": 3
  },
  "orig_nbformat": 2,
  "kernelspec": {
   "name": "python_defaultSpec_1598672118457",
   "display_name": "Python 3.8.5 64-bit"
  }
 },
 "nbformat": 4,
 "nbformat_minor": 2,
 "cells": [
  {
   "cell_type": "markdown",
   "metadata": {},
   "source": [
    "# 电话号码的字母组合\n",
    "\n",
    "给定一个仅包含数字 2-9 的字符串，返回所有它能表示的字母组合。\n",
    "\n",
    "给出数字到字母的映射如下（与电话按键相同）。注意 1 不对应任何字母。\n",
    "\n",
    "![](https://assets.leetcode-cn.com/aliyun-lc-upload/original_images/17_telephone_keypad.png)\n",
    "\n",
    "示例:\n",
    "\n",
    "```\n",
    "输入：\"23\"\n",
    "输出：[\"ad\", \"ae\", \"af\", \"bd\", \"be\", \"bf\", \"cd\", \"ce\", \"cf\"].\n",
    "```\n",
    "\n",
    "说明:\n",
    "尽管上面的答案是按字典序排列的，但是你可以任意选择答案输出的顺序。\n",
    "\n"
   ]
  },
  {
   "cell_type": "code",
   "execution_count": 1,
   "metadata": {},
   "outputs": [],
   "source": [
    "from typing import List\n",
    "\n",
    "\n",
    "class Solution:\n",
    "    def letterCombinations(self, digits: str) -> List[str]:\n",
    "        mapping = {\n",
    "            '2': ['a', 'b', 'c'], '3': ['d', 'e', 'f'],\n",
    "            '4': ['g', 'h', 'i'], '5': ['j', 'k', 'l'], '6': ['m', 'n', 'o'],\n",
    "            '7': ['p', 'q', 'r', 's'], '8': ['t', 'u', 'v'], '9': ['w', 'x', 'y', 'z']\n",
    "        }\n",
    "\n",
    "        ans = []\n",
    "        for x in digits:\n",
    "            if len(ans) == 0:\n",
    "                ans = mapping[x].copy()\n",
    "            else:\n",
    "                aug = []\n",
    "                for s in ans:\n",
    "                    add = mapping[x]\n",
    "                    aug += [a+b for a, b in zip([s] * len(add), add)]\n",
    "                ans = aug\n",
    "        return ans"
   ]
  },
  {
   "cell_type": "code",
   "execution_count": 2,
   "metadata": {
    "tags": []
   },
   "outputs": [
    {
     "output_type": "stream",
     "name": "stdout",
     "text": "done\n"
    }
   ],
   "source": [
    "sln = Solution()\n",
    "\n",
    "sln.letterCombinations(\"23\") == [\"ad\", \"ae\", \"af\", \"bd\", \"be\", \"bf\", \"cd\", \"ce\", \"cf\"]\n",
    "print('done')"
   ]
  }
 ]
}