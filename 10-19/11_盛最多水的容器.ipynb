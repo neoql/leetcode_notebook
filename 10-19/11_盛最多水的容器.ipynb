{
 "cells": [
  {
   "cell_type": "markdown",
   "metadata": {},
   "source": [
    "# 盛最多水的容器\n",
    "\n",
    "给你n个非负整数a<sub>1</sub>, a<sub>2</sub>,..., a<sub>n</sub>, 每个数代表坐标中的一个点(i, a<sub>i</sub>)。在坐标内画n条垂直线，垂直线i的两端点分别为(i, a<sub>i</sub>)和(i,0)。找出其中的两条线，使得它们与x轴共同构成的容器可以容纳最多的水。\n",
    "\n",
    "**说明:** 你不能倾斜容器，且n的值至少为2\n",
    "\n",
    "示例：\n",
    "\n",
    "输入：\\[1,8,6,2,5,4,8,3,7\\]\n",
    "输出: 49"
   ]
  },
  {
   "cell_type": "code",
   "execution_count": 1,
   "metadata": {},
   "outputs": [],
   "source": [
    "from typing import List\n",
    "\n",
    "class Solution:\n",
    "    def maxArea(self, height: List[int]) -> int:\n",
    "        p = 0\n",
    "        q = len(height) - 1\n",
    "        maxArea = 0\n",
    "\n",
    "        while p < q:\n",
    "            area = min(height[p], height[q]) * (q - p)\n",
    "            maxArea = max(area, maxArea)\n",
    "\n",
    "            if height[q] >= height[p]:\n",
    "                p += 1\n",
    "            elif height[q] <= height[p]:\n",
    "                q -=1\n",
    "        \n",
    "        return maxArea"
   ]
  },
  {
   "cell_type": "code",
   "execution_count": 2,
   "metadata": {
    "tags": []
   },
   "outputs": [
    {
     "output_type": "stream",
     "name": "stdout",
     "text": "pass\n"
    }
   ],
   "source": [
    "sln = Solution()\n",
    "\n",
    "assert sln.maxArea([1, 8, 6, 2, 5, 4, 8, 3, 7]) == 49\n",
    "\n",
    "print('pass')"
   ]
  },
  {
   "cell_type": "code",
   "execution_count": null,
   "metadata": {},
   "outputs": [],
   "source": []
  }
 ],
 "metadata": {
  "language_info": {
   "codemirror_mode": {
    "name": "ipython",
    "version": 3
   },
   "file_extension": ".py",
   "mimetype": "text/x-python",
   "name": "python",
   "nbconvert_exporter": "python",
   "pygments_lexer": "ipython3",
   "version": 3
  },
  "orig_nbformat": 2,
  "kernelspec": {
   "name": "python_defaultSpec_1596635072390",
   "display_name": "Python 3.8.5 64-bit"
  }
 },
 "nbformat": 4,
 "nbformat_minor": 2
}