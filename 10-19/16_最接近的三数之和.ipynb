{
 "metadata": {
  "language_info": {
   "codemirror_mode": {
    "name": "ipython",
    "version": 3
   },
   "file_extension": ".py",
   "mimetype": "text/x-python",
   "name": "python",
   "nbconvert_exporter": "python",
   "pygments_lexer": "ipython3",
   "version": 3
  },
  "orig_nbformat": 2,
  "kernelspec": {
   "name": "python_defaultSpec_1598670321453",
   "display_name": "Python 3.8.5 64-bit"
  }
 },
 "nbformat": 4,
 "nbformat_minor": 2,
 "cells": [
  {
   "cell_type": "markdown",
   "metadata": {},
   "source": [
    "# 最接近的三数之和\n",
    "\n",
    "给定一个包括 n 个整数的数组 nums 和 一个目标值 target。找出 nums 中的三个整数，使得它们的和与 target 最接近。返回这三个数的和。假定每组输入只存在唯一答案。 \n",
    "\n",
    "示例：\n",
    "\n",
    "```\n",
    "输入：nums = [-1,2,1,-4], target = 1\n",
    "输出：2\n",
    "解释：与 target 最接近的和是 2 (-1 + 2 + 1 = 2) 。 \n",
    "```\n",
    "\n",
    "提示：\n",
    "\n",
    "* 3 <= nums.length <= 10^3\n",
    "\n",
    "* -10^3 <= nums\\[i\\] <= 10^3\n",
    "\n",
    "* -10^4 <= target <= 10^4"
   ]
  },
  {
   "cell_type": "code",
   "execution_count": 7,
   "metadata": {},
   "outputs": [],
   "source": [
    "from typing import List\n",
    "\n",
    "\n",
    "class Solution:\n",
    "    def threeSumClosest(self, nums: List[int], target: int) -> int:\n",
    "        n = len(nums)\n",
    "        nums.sort()\n",
    "        ans = sum(nums[:3])\n",
    "\n",
    "        if ans == target:\n",
    "            return ans\n",
    "\n",
    "\n",
    "        for i in range(n):\n",
    "            if i > 0 and nums[i] == nums[i-1]:\n",
    "                continue\n",
    "\n",
    "            L = i+1\n",
    "            R = n-1\n",
    "            while L < R:\n",
    "                acc = nums[i] + nums[L] + nums[R]\n",
    "                if acc == target:\n",
    "                    return acc\n",
    "                elif acc < target:\n",
    "                    L += 1\n",
    "                else:\n",
    "                    R -= 1\n",
    "                if abs(acc - target) < abs(ans - target):\n",
    "                    ans = acc\n",
    "        return ans\n",
    "                \n"
   ]
  },
  {
   "cell_type": "code",
   "execution_count": 8,
   "metadata": {
    "tags": []
   },
   "outputs": [
    {
     "output_type": "stream",
     "name": "stdout",
     "text": "done\n"
    }
   ],
   "source": [
    "sln = Solution()\n",
    "\n",
    "nums = [-1, 2, 1, -4]\n",
    "target = 1\n",
    "\n",
    "assert sln.threeSumClosest(nums, target) == 2\n",
    "assert sln.threeSumClosest([0, 1, 2], 0) == 3\n",
    "print('done')"
   ]
  },
  {
   "cell_type": "code",
   "execution_count": null,
   "metadata": {},
   "outputs": [],
   "source": []
  }
 ]
}