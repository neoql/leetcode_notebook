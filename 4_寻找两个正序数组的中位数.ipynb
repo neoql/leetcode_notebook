{
 "cells": [
  {
   "cell_type": "markdown",
   "metadata": {},
   "source": [
    "# 寻找两个正序数组的中位数\n",
    "\n",
    "给定两个大小为 m 和 n 的正序（从小到大）数组 `nums1` 和 `nums2`。\n",
    "\n",
    "请你找出这两个正序数组的中位数，并且要求算法的时间复杂度为 O(log(m + n))。\n",
    "\n",
    "你可以假设 `nums1` 和 `nums2` 不会同时为空。\n",
    "\n",
    "### 示例 1:\n",
    "\n",
    "nums1 = \\[1, 3\\]\n",
    "\n",
    "nums2 = \\[2\\]\n",
    "\n",
    "则中位数是 2.0\n",
    "\n",
    "### 示例 2:\n",
    "\n",
    "nums1 = \\[1, 2\\]\n",
    "\n",
    "nums2 = \\[3, 4\\]\n",
    "\n",
    "则中位数是 (2 + 3)/2 = 2.5"
   ]
  },
  {
   "cell_type": "code",
   "execution_count": null,
   "metadata": {},
   "outputs": [],
   "source": [
    "from typing import List\n",
    "\n",
    "\n",
    "class Solution:\n",
    "    def findMedianSortedArrays(self, nums1: List[int], nums2: List[int]) -> float:\n",
    "        pass"
   ]
  },
  {
   "cell_type": "code",
   "execution_count": null,
   "metadata": {},
   "outputs": [],
   "source": [
    "sln = Solution()\n",
    "\n",
    "x1 = [1, 3]\n",
    "x2 = [2]\n",
    "\n",
    "assert sln.findMedianSortedArrays(x1, x2) == 2.0\n",
    "\n",
    "x1 = [1, 2]\n",
    "x2 = [3, 4]\n",
    "\n",
    "assert sln.findMedianSortedArrays(x1, x2) == 2.5"
   ]
  }
 ],
 "metadata": {
  "language_info": {
   "codemirror_mode": {
    "name": "ipython",
    "version": 3
   },
   "file_extension": ".py",
   "mimetype": "text/x-python",
   "name": "python",
   "nbconvert_exporter": "python",
   "pygments_lexer": "ipython3",
   "version": 3
  },
  "orig_nbformat": 2
 },
 "nbformat": 4,
 "nbformat_minor": 2
}